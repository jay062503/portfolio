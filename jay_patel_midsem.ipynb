{
  "nbformat": 4,
  "nbformat_minor": 0,
  "metadata": {
    "colab": {
      "provenance": [],
      "authorship_tag": "ABX9TyOOjbOyJfHYBPaBq8uLw+sq",
      "include_colab_link": true
    },
    "kernelspec": {
      "name": "python3",
      "display_name": "Python 3"
    },
    "language_info": {
      "name": "python"
    }
  },
  "cells": [
    {
      "cell_type": "markdown",
      "metadata": {
        "id": "view-in-github",
        "colab_type": "text"
      },
      "source": [
        "<a href=\"https://colab.research.google.com/github/jay062503/portfolio/blob/main/jay_patel_midsem.ipynb\" target=\"_parent\"><img src=\"https://colab.research.google.com/assets/colab-badge.svg\" alt=\"Open In Colab\"/></a>"
      ]
    },
    {
      "cell_type": "code",
      "execution_count": 52,
      "metadata": {
        "colab": {
          "base_uri": "https://localhost:8080/",
          "height": 472
        },
        "id": "3LEQGeJmpZFh",
        "outputId": "1704b9d8-eff1-45ca-f11d-b786c17dd833"
      },
      "outputs": [
        {
          "output_type": "display_data",
          "data": {
            "text/plain": [
              "<Figure size 640x480 with 1 Axes>"
            ],
            "image/png": "[encoded data removed]"
          },
          "metadata": {}
        }
      ],
      "source": [
        "# Q-3\n",
        "\n",
        "import numpy as np\n",
        "import pandas as pd\n",
        "import matplotlib.pyplot as plt\n",
        "\n",
        "data = pd.read_csv('https://swmukher.web.cern.ch/swmukher/midsem.csv')\n",
        "\n",
        "plt.hist(data[data['class']=='g']['fLength'],bins=30,color='blue',alpha=0.5,label='g')\n",
        "plt.hist(data[data['class']=='h']['fLength'],bins=30,color='red',alpha=0.6,label='h')\n",
        "plt.title('length vs class')\n",
        "plt.xlabel('length')\n",
        "plt.ylabel('class')\n",
        "plt.legend()\n",
        "plt.show()\n"
      ]
    },
    {
      "cell_type": "code",
      "source": [
        "# Q-4\n",
        "\n",
        "#fLength<150\n",
        "#as the graph is decreasing for large value of flength, therfore to cover as much signals as possible the value would be less than 150"
      ],
      "metadata": {
        "id": "kWxzfaVN2cGK"
      },
      "execution_count": 53,
      "outputs": []
    },
    {
      "cell_type": "code",
      "source": [
        "# Q-2\n",
        "\n",
        "print(f\"number of entries correspond to gamma: {len(data[data['class']=='g'])}\")\n",
        "print(f\"number of entries correspond to gamma: {len(data[data['class']=='h'])}\")"
      ],
      "metadata": {
        "colab": {
          "base_uri": "https://localhost:8080/"
        },
        "id": "cJAbJqEN4cnd",
        "outputId": "51be949a-854e-4261-fb09-95a08329ad6c"
      },
      "execution_count": 59,
      "outputs": [
        {
          "output_type": "stream",
          "name": "stdout",
          "text": [
            "number of entries correspond to gamma: 12332\n",
            "number of entries correspond to gamma: 6688\n"
          ]
        }
      ]
    },
    {
      "cell_type": "code",
      "source": [
        "# Q-1\n",
        "\n",
        "print(f\"number of entries correspond to gamma: {len(data[data=='0'])}\")"
      ],
      "metadata": {
        "colab": {
          "base_uri": "https://localhost:8080/"
        },
        "id": "bLIGysQI5imE",
        "outputId": "d39a78e7-3243-4f60-a04b-980f933661c5"
      },
      "execution_count": 61,
      "outputs": [
        {
          "output_type": "stream",
          "name": "stdout",
          "text": [
            "number of entries correspond to gamma: 19020\n"
          ]
        }
      ]
    },
    {
      "cell_type": "code",
      "source": [
        "# Q-6\n",
        "\n",
        "from sklearn.model_selection import train_test_split\n",
        "\n",
        "x_train = data.iloc[:,:-1]\n",
        "y_train = data.iloc[:,:-1]\n",
        "x_test = data.iloc[:,:-1]\n",
        "y_test = data.iloc[:,:-1]\n",
        "x_valid = data.iloc[:,:-1]\n",
        "y_valid = data.iloc[:,:-1]\n",
        "\n",
        "x_train,x_test,y_train,y_test = train_test_split(x_train,y_train,test_size=0.3,random_state=42)\n",
        "x_train,x_valid,y_train,y_valid = train_test_split(x_train,y_train,test_size=0.2,random_state=42)\n",
        "\n",
        "print(f\"shape of x_train: {x_train.shape}\")\n",
        "print(f\"shape of y_train: {y_train.shape}\")\n",
        "print(f\"shape of x_test: {x_test.shape}\")\n",
        "print(f\"shape of y_test: {y_test.shape}\")\n",
        "print(f\"shape of x_valid: {x_valid.shape}\")\n",
        "print(f\"shape of y_valid: {y_valid.shape}\")"
      ],
      "metadata": {
        "colab": {
          "base_uri": "https://localhost:8080/"
        },
        "id": "MfUqIhkg5wNk",
        "outputId": "0ca7e13a-6499-4a00-bb29-9e9626ea215a"
      },
      "execution_count": 95,
      "outputs": [
        {
          "output_type": "stream",
          "name": "stdout",
          "text": [
            "shape of x_train: (10651, 11)\n",
            "shape of y_train: (10651, 11)\n",
            "shape of x_test: (5706, 11)\n",
            "shape of y_test: (5706, 11)\n",
            "shape of x_valid: (2663, 11)\n",
            "shape of y_valid: (2663, 11)\n"
          ]
        }
      ]
    }
  ]
}